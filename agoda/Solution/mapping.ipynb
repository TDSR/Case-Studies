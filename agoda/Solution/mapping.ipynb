{
 "cells": [
  {
   "cell_type": "code",
   "execution_count": 1,
   "metadata": {},
   "outputs": [],
   "source": [
    "#import all required packages for this analysis\n",
    "import pandas as pd\n",
    "import numpy as np\n",
    "import os\n",
    "import base64\n",
    "import Levenshtein as lev\n",
    "from fuzzywuzzy import process\n",
    "from fuzzywuzzy import fuzz\n",
    "import matplotlib.pyplot as plt\n",
    "import time"
   ]
  },
  {
   "cell_type": "code",
   "execution_count": 2,
   "metadata": {},
   "outputs": [],
   "source": [
    "#read raw input data \n",
    "input_file_path = '/Users/santoshkumar/Downloads/agoda'\n",
    "file = os.path.join(input_file_path, 'mappinghotelsdataset.xlsx')\n",
    "\n",
    "raw_df_partner1 = pd.read_excel(file, sheet_name='Partner1', keep_default_na=False)\n",
    "df_partner1 = raw_df_partner1\n",
    "raw_df_partner2 = pd.read_excel(file, sheet_name = 'Partner2', keep_default_na=False)\n",
    "df_partner2 = raw_df_partner2"
   ]
  },
  {
   "cell_type": "markdown",
   "metadata": {},
   "source": [
    "Cleaning the dataset for matching algo. Following steps:\n",
    "make all lowercase -> remove spaces -> (remove comma, punctuation, etc)-> encode as utf-8 \n"
   ]
  },
  {
   "cell_type": "code",
   "execution_count": 3,
   "metadata": {},
   "outputs": [],
   "source": [
    "# helper function to do preprocessing on string before fuzzy match \n",
    "def lowercase_removespace(df, col):\n",
    "    df[col] = df.loc[:, col].map(lambda x: x.lower() if isinstance(x, str) else x).\\\n",
    "    map(lambda x: x.replace(' ','') if isinstance(x,str) else x).\\\n",
    "    map(lambda x: x.replace(',', '') if isinstance(x,str) else x).\\\n",
    "    map(lambda x: x.replace('.', '') if isinstance(x,str) else x)\n",
    "\n",
    "    \n",
    "# encode string to utf-8 for consistency\n",
    "def encode_to_utf8(df, col):\n",
    "    df[col] = df[col].map(lambda x: base64.b64encode(x.encode('utf-8')))\n",
    "    \n",
    "def decode_to_str(df, col):\n",
    "    df[col] = df[col].map(lambda x: base64.b64decode(x))"
   ]
  },
  {
   "cell_type": "code",
   "execution_count": 4,
   "metadata": {},
   "outputs": [],
   "source": [
    "# create a function which calculate best match for hotels in Partners1 sheet with Partners2. It takes\n",
    "# Partners1 and Partners2 data as input and returns best match hotel from partner2 for each hotel in partner1\n",
    "# along with matching score\n",
    "\n",
    "# Starts with checking for exact match first. Model input takes two values ['lev', 'fuzzy']. \n",
    "# Default is Levenshtein distance model to map keys\n",
    "def mapping(df_partner1, df_partner2, model = 'lev'):\n",
    "    output = []\n",
    "    country_list = [x for x in df_partner1['p1.country_code']]\n",
    "    country_list = list(set(country_list))\n",
    "    for country_code in country_list:\n",
    "        partner1 = df_partner1[df_partner1['p1.country_code'] == country_code]\n",
    "        partner2 = df_partner2[df_partner2['p2.country_code'] == country_code]\n",
    "        for str1 in partner1['p1.mapping_key']:\n",
    "            matching_score = []\n",
    "            best_match = []\n",
    "            for str2 in partner2['p2.mapping_key']:\n",
    "                if str1 == str2:\n",
    "                    ratio = 1.0\n",
    "                    matching_score.append(ratio)\n",
    "                    best_match.append(str2)\n",
    "                else:\n",
    "                    if model == 'lev':\n",
    "                        ratio = lev.ratio(str1, str2)\n",
    "                        matching_score.append(ratio)\n",
    "                        best_match.append(str2)\n",
    "                    elif model == 'fuzzy':\n",
    "                        ratio = fuzz.token_set_ratio(str1, str2)/100.0\n",
    "                        matching_score.append(ratio)\n",
    "                        best_match.append(str2)                    \n",
    "                        \n",
    "            max_index = matching_score.index(max(matching_score))\n",
    "            max_matching_score = matching_score[max_index]\n",
    "            best_match_hotel = best_match[max_index]\n",
    "            p1_key = partner1.loc[partner1['p1.mapping_key'] == str1,['p1.key']].iloc[0,0]\n",
    "            p2_key = partner2.loc[partner2['p2.mapping_key'] == best_match_hotel, ['p2.key']].iloc[0,0]\n",
    "            output.append([str1, p1_key, best_match_hotel, p2_key, \n",
    "                           country_code, max_matching_score]) \n",
    "    return output"
   ]
  },
  {
   "cell_type": "markdown",
   "metadata": {},
   "source": [
    "## Evaluating the model we built above using example dataset"
   ]
  },
  {
   "cell_type": "markdown",
   "metadata": {},
   "source": [
    "Create a training datset for our model. Using our model and data from partner1 in example file, we'll find its mapping in partner2 hotels. This mapping will be used to compare against actuall mapping in example file to evaluate our model"
   ]
  },
  {
   "cell_type": "code",
   "execution_count": 5,
   "metadata": {},
   "outputs": [
    {
     "name": "stderr",
     "output_type": "stream",
     "text": [
      "<ipython-input-3-da43867a7479>:3: SettingWithCopyWarning: \n",
      "A value is trying to be set on a copy of a slice from a DataFrame.\n",
      "Try using .loc[row_indexer,col_indexer] = value instead\n",
      "\n",
      "See the caveats in the documentation: https://pandas.pydata.org/pandas-docs/stable/user_guide/indexing.html#returning-a-view-versus-a-copy\n",
      "  df[col] = df.loc[:, col].map(lambda x: x.lower() if isinstance(x, str) else x).\\\n"
     ]
    }
   ],
   "source": [
    "# load data and clean it for the model\n",
    "df_example = pd.read_excel(file, sheet_name = 'examples', keep_default_na=False)\n",
    "df_ex_partner1 = df_example[['p1.key', 'p1.hotel_name', 'p1.city_name',\n",
    "               'p1.country_code', 'p1.hotel_address']]\n",
    "\n",
    "#make all string lowercase and remove all spaces \n",
    "lowercase_removespace(df_ex_partner1, 'p1.hotel_name')\n",
    "lowercase_removespace(df_ex_partner1, 'p1.city_name')\n",
    "lowercase_removespace(df_ex_partner1, 'p1.hotel_address')\n",
    "lowercase_removespace(df_ex_partner1, 'p1.country_code')\n",
    "\n",
    "# create a mapping key which is concatenation of hotel name and hotel address. Encode it to utf-8 for consistency \n",
    "# This key will be used to calculate matching score \n",
    "df_ex_partner1 = df_ex_partner1.astype({'p1.hotel_name': str, 'p1.city_name' : str, 'p1.hotel_address' : str})\n",
    "df_ex_partner1['p1.mapping_key'] = df_ex_partner1['p1.hotel_name'] + df_ex_partner1['p1.city_name']\n",
    "encode_to_utf8(df_ex_partner1, 'p1.mapping_key')\n",
    "\n",
    "\n",
    "# same steps for hotels in partners2 list. This is the list we will use for matching  \n",
    "df_ex_partner2 = df_example[['p2.key', 'p2.hotel_name', 'p2.city_name',\n",
    "               'p2.country_code', 'p2.hotel_address']]\n",
    "\n",
    "lowercase_removespace(df_ex_partner2, 'p2.hotel_name')\n",
    "lowercase_removespace(df_ex_partner2, 'p2.city_name')\n",
    "lowercase_removespace(df_ex_partner2, 'p2.hotel_address')\n",
    "lowercase_removespace(df_ex_partner2, 'p2.country_code')\n",
    "\n",
    "df_ex_partner2 = df_ex_partner2.astype({'p2.hotel_name': str, 'p2.city_name' : str, 'p2.hotel_address' : str})\n",
    "df_ex_partner2['p2.mapping_key'] = df_ex_partner2['p2.hotel_name'] + df_ex_partner2['p2.city_name']\n",
    "encode_to_utf8(df_ex_partner2, 'p2.mapping_key')\n"
   ]
  },
  {
   "cell_type": "code",
   "execution_count": 6,
   "metadata": {},
   "outputs": [],
   "source": [
    "example_mapping_file = mapping(df_ex_partner1, df_ex_partner2, model = 'lev')\n",
    "example_mapping = pd.DataFrame(example_mapping_file)\n",
    "example_mapping.columns = ['p1.mapping_key','p1.key', 'p2.mapping_key','p2.key','country_code','score']"
   ]
  },
  {
   "cell_type": "code",
   "execution_count": 7,
   "metadata": {},
   "outputs": [],
   "source": [
    "#evaluate how many were correctly matched;\n",
    "#define a precision and recall: \n",
    "# precision: of all the predicted mappings, how many were correct matches\n",
    "# recall: of all the mappings present in the data, how many were correctly predicted \n",
    "def precision_recall_tradeoff(train, test, threshold = 0.5):\n",
    "    train = train[train['score'] >= threshold]\n",
    "    train_df = train[['p1.key', 'p2.key']]\n",
    "    test_df = test[['p1.key', 'p2.key']]\n",
    "    \n",
    "    eval_df = pd.merge(train_df, test_df, how ='inner', on =['p1.key', 'p2.key'])\n",
    "    precision = len(eval_df)*100/(len(train_df))\n",
    "    recall = len(eval_df)*100/(len(test_df))\n",
    "    \n",
    "    return precision, recall"
   ]
  },
  {
   "cell_type": "code",
   "execution_count": 8,
   "metadata": {},
   "outputs": [],
   "source": [
    "test_df = df_example[['p1.key', 'p2.key']]\n",
    "precision = []\n",
    "recall = []\n",
    "threshold = []\n",
    "for i in range(101):\n",
    "    th = 0.01*i\n",
    "    pr, re = precision_recall_tradeoff(example_mapping, test_df, th)\n",
    "    precision.append(pr)\n",
    "    recall.append(re)\n",
    "    threshold.append(th)"
   ]
  },
  {
   "cell_type": "code",
   "execution_count": 9,
   "metadata": {},
   "outputs": [
    {
     "data": {
      "text/plain": [
       "Text(0, 0.5, 'Precision')"
      ]
     },
     "execution_count": 9,
     "metadata": {},
     "output_type": "execute_result"
    },
    {
     "data": {
      "image/png": "[encoded data removed]",
      "text/plain": [
       "<Figure size 432x288 with 1 Axes>"
      ]
     },
     "metadata": {
      "needs_background": "light"
     },
     "output_type": "display_data"
    }
   ],
   "source": [
    "# plot precision for various threshold cut-off; select threshold which gives more than 98% precision \n",
    "plt.plot(threshold, precision, color ='orange')\n",
    "plt.xlabel('Threshold')\n",
    "plt.ylabel('Precision')"
   ]
  },
  {
   "cell_type": "code",
   "execution_count": 10,
   "metadata": {
    "scrolled": true
   },
   "outputs": [
    {
     "data": {
      "text/plain": [
       "Text(0, 0.5, 'Precision')"
      ]
     },
     "execution_count": 10,
     "metadata": {},
     "output_type": "execute_result"
    },
    {
     "data": {
      "image/png": "[encoded data removed]",
      "text/plain": [
       "<Figure size 432x288 with 1 Axes>"
      ]
     },
     "metadata": {
      "needs_background": "light"
     },
     "output_type": "display_data"
    }
   ],
   "source": [
    "# plot precision recall tradeoff graph \n",
    "plt.plot(recall, precision, color = 'orange')\n",
    "plt.xlabel('Recall')\n",
    "plt.ylabel('Precision')"
   ]
  },
  {
   "cell_type": "markdown",
   "metadata": {},
   "source": [
    "# Applying our winning model with optimal threshold on Partner1 sheet"
   ]
  },
  {
   "cell_type": "code",
   "execution_count": 11,
   "metadata": {},
   "outputs": [],
   "source": [
    "ts = time.time()"
   ]
  },
  {
   "cell_type": "code",
   "execution_count": 12,
   "metadata": {},
   "outputs": [],
   "source": [
    "#applying helper functions to clean data for string matching \n",
    "lowercase_removespace(df_partner1, 'p1.hotel_name')\n",
    "lowercase_removespace(df_partner1, 'p1.city_name')\n",
    "lowercase_removespace(df_partner1, 'p1.hotel_address')\n",
    "lowercase_removespace(df_partner1, 'p1.country_code')\n",
    "\n",
    "lowercase_removespace(df_partner2, 'p2.hotel_name')\n",
    "lowercase_removespace(df_partner2, 'p2.city_name')\n",
    "lowercase_removespace(df_partner2, 'p2.hotel_address')\n",
    "lowercase_removespace(df_partner2, 'p2.country_code')"
   ]
  },
  {
   "cell_type": "code",
   "execution_count": 13,
   "metadata": {},
   "outputs": [],
   "source": [
    "#convert hotel name and address to avoid any funny behaviour\n",
    "df_partner1 = df_partner1.astype({'p1.hotel_name': str, 'p1.city_name' : str, 'p1.hotel_address': str})\n",
    "df_partner2 = df_partner2.astype({'p2.hotel_name': str, 'p2.city_name' : str, 'p2.hotel_address': str})"
   ]
  },
  {
   "cell_type": "code",
   "execution_count": 14,
   "metadata": {},
   "outputs": [],
   "source": [
    "# create a mapping key which is concatenation of hotel name and hotel address. \n",
    "# This key will be used to calculate matching score \n",
    "df_partner1['p1.mapping_key'] = df_partner1['p1.hotel_name'] + df_partner1['p1.city_name']\n",
    "df_partner2['p2.mapping_key'] = df_partner2['p2.hotel_name'] + df_partner2['p2.city_name']\n",
    "\n",
    "# using helper function to encode string to utf-8 \n",
    "encode_to_utf8(df_partner1, 'p1.mapping_key')\n",
    "encode_to_utf8(df_partner2, 'p2.mapping_key')"
   ]
  },
  {
   "cell_type": "code",
   "execution_count": 15,
   "metadata": {},
   "outputs": [],
   "source": [
    "best_mapping_file = mapping(df_partner1, df_partner2, model = 'lev')"
   ]
  },
  {
   "cell_type": "code",
   "execution_count": 16,
   "metadata": {},
   "outputs": [],
   "source": [
    "df_mapping = pd.DataFrame(best_mapping_file)"
   ]
  },
  {
   "cell_type": "code",
   "execution_count": 17,
   "metadata": {},
   "outputs": [],
   "source": [
    "df_mapping.columns = ['p1.mapping_key','p1.key', 'p2.mapping_key','p2.key','country_code','score']"
   ]
  },
  {
   "cell_type": "code",
   "execution_count": 18,
   "metadata": {},
   "outputs": [],
   "source": [
    "decode_to_str(df_mapping, 'p1.mapping_key')\n",
    "decode_to_str(df_mapping, 'p2.mapping_key')"
   ]
  },
  {
   "cell_type": "code",
   "execution_count": 19,
   "metadata": {},
   "outputs": [
    {
     "data": {
      "text/plain": [
       "8283"
      ]
     },
     "execution_count": 19,
     "metadata": {},
     "output_type": "execute_result"
    }
   ],
   "source": [
    "submission_df = df_mapping[df_mapping['score'] >= .61]\n",
    "submission_df = submission_df[['p1.key', 'p2.key']]\n",
    "submission_df.to_csv('mappings.csv', index = False)\n",
    "len(submission_df)"
   ]
  },
  {
   "cell_type": "code",
   "execution_count": 20,
   "metadata": {},
   "outputs": [],
   "source": [
    "#create a file with low score for manual inspection \n",
    "low_score_df = df_mapping[df_mapping['score']<39][['p1.key', 'p2.key']]\n",
    "low_score_df = low_score_df.merge(raw_df_partner1, how = 'left', on = ['p1.key'])\n",
    "low_score_df = low_score_df.merge(raw_df_partner2, how = 'left', on = ['p2.key'])\n",
    "\n",
    "low_score_df.to_excel('mapping_low_score.xlsx', index = False)"
   ]
  },
  {
   "cell_type": "code",
   "execution_count": 21,
   "metadata": {},
   "outputs": [
    {
     "name": "stdout",
     "output_type": "stream",
     "text": [
      "time taken to run:31.526336908340454\n"
     ]
    }
   ],
   "source": [
    "tc = time.time()\n",
    "print('time taken to run:{}'.format(tc-ts))"
   ]
  }
 ],
 "metadata": {
  "kernelspec": {
   "display_name": "Python 3",
   "language": "python",
   "name": "python3"
  },
  "language_info": {
   "codemirror_mode": {
    "name": "ipython",
    "version": 3
   },
   "file_extension": ".py",
   "mimetype": "text/x-python",
   "name": "python",
   "nbconvert_exporter": "python",
   "pygments_lexer": "ipython3",
   "version": "3.8.5"
  }
 },
 "nbformat": 4,
 "nbformat_minor": 4
}
